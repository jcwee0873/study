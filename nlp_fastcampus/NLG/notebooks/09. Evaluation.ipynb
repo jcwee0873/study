{
 "cells": [
  {
   "cell_type": "markdown",
   "id": "ff590ca3",
   "metadata": {},
   "source": [
    "## Evaluation\n",
    "- Test Set의 적격성\n",
    "  - 적정 난이도\n",
    "  - noise 불포함\n",
    "  - deploy 할 때와 같은 domain\n",
    "- Scoring Metric\n",
    "- 다양한 결과값이 가능한 경우"
   ]
  },
  {
   "cell_type": "markdown",
   "id": "db89d4be",
   "metadata": {},
   "source": [
    "### PPL\n",
    "- PPL = P ** -(1/n)\n",
    "- 정확한 번역의 품질을 반영하지 못함 (어순의 변화에 취약함)  \n",
    "\n",
    "### BLEU\n",
    "- 각 n-gram 별 precision의 가중 평균\n",
    "- 어순의 변화에 대처할 수 있음\n",
    "- 유의어 / 동의어 등에 대한 대처는 떨어짐\n",
    "- nltk.translate.bleu_score or seq2seq/multi-bleu.perl"
   ]
  },
  {
   "cell_type": "code",
   "execution_count": 2,
   "id": "76bca425",
   "metadata": {},
   "outputs": [],
   "source": [
    "from nltk.translate import bleu_score"
   ]
  },
  {
   "cell_type": "code",
   "execution_count": null,
   "id": "aac0010e",
   "metadata": {},
   "outputs": [],
   "source": []
  },
  {
   "cell_type": "code",
   "execution_count": null,
   "id": "c5504323",
   "metadata": {},
   "outputs": [],
   "source": []
  },
  {
   "cell_type": "code",
   "execution_count": null,
   "id": "70ab1e70",
   "metadata": {},
   "outputs": [],
   "source": []
  }
 ],
 "metadata": {
  "kernelspec": {
   "display_name": "Python 3 (ipykernel)",
   "language": "python",
   "name": "python3"
  },
  "language_info": {
   "codemirror_mode": {
    "name": "ipython",
    "version": 3
   },
   "file_extension": ".py",
   "mimetype": "text/x-python",
   "name": "python",
   "nbconvert_exporter": "python",
   "pygments_lexer": "ipython3",
   "version": "3.9.7"
  }
 },
 "nbformat": 4,
 "nbformat_minor": 5
}
