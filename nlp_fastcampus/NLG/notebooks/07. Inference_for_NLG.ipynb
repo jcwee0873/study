{
 "cells": [
  {
   "cell_type": "markdown",
   "id": "10aa8dec",
   "metadata": {},
   "source": [
    "### Sampling based Approach\n",
    "- Softmax 결과 값을 multinoulli 분포로 삼아 random sampling\n",
    "- 매번 결과가 다르게 나올 수 있음.\n",
    "- Greedy 보다 성능이 높다고 알려져 있음.\n",
    "\n",
    "### Greedy Search based Approach\n",
    "- 매 time-step마다 가장 확률 높은 단어 선택\n",
    "- 빠른 속도와 일정한 품질\n",
    "- 하지만 최선의 선택은 아님."
   ]
  },
  {
   "cell_type": "markdown",
   "id": "be108ec0",
   "metadata": {},
   "source": [
    "### Penalty\n",
    "- 확률이 높은 문장을 생성하는것이 목표이나, 긴 문장일수록 확률이 작아짐  \n",
    "\n",
    "#### Length Penalty\n",
    "- 길이(n)가 긴 문장일수록 큰 음의 값(로그확률)을 지니게 하여, 긴 문장에 작은 값을 곱해주어 큰 확률값이 되게 함\n",
    "- 확률값 X Penalty(n) <- 문장이 길수록 패널티 크기가 작아짐\n",
    "- penalty(n) = [( 1 + beta ) / ( 1 + n )] ^ alpha  \n",
    "#### Coverage Penalty\n",
    "- 디코더의 각 time-step마다 attention이 다른 곳에 집중해야 좋은 번역일 것    \n",
    "\n",
    "#### log P = log P * penalty_length(n) + penalty_coverage()"
   ]
  },
  {
   "cell_type": "code",
   "execution_count": null,
   "id": "73dc498d",
   "metadata": {},
   "outputs": [],
   "source": []
  }
 ],
 "metadata": {
  "kernelspec": {
   "display_name": "Python 3 (ipykernel)",
   "language": "python",
   "name": "python3"
  },
  "language_info": {
   "codemirror_mode": {
    "name": "ipython",
    "version": 3
   },
   "file_extension": ".py",
   "mimetype": "text/x-python",
   "name": "python",
   "nbconvert_exporter": "python",
   "pygments_lexer": "ipython3",
   "version": "3.9.7"
  }
 },
 "nbformat": 4,
 "nbformat_minor": 5
}
