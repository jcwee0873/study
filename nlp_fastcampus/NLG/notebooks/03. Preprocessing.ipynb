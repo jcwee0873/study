{
 "cells": [
  {
   "cell_type": "code",
   "execution_count": 1,
   "metadata": {},
   "outputs": [],
   "source": [
    "from glob import glob"
   ]
  },
  {
   "cell_type": "code",
   "execution_count": 2,
   "metadata": {},
   "outputs": [
    {
     "data": {
      "text/plain": [
       "['./kor_eng_translation/1_구어체(2).txt',\n",
       " './kor_eng_translation/3_문어체_뉴스(2).txt',\n",
       " './kor_eng_translation/3_문어체_뉴스(1).txt',\n",
       " './kor_eng_translation/1_구어체(1).txt',\n",
       " './kor_eng_translation/4_문어체_한국문화.txt',\n",
       " './kor_eng_translation/6_문어체_지자체웹사이트.txt',\n",
       " './kor_eng_translation/3_문어체_뉴스(3).txt',\n",
       " './kor_eng_translation/5_문어체_조례.txt',\n",
       " './kor_eng_translation/3_문어체_뉴스(4).txt',\n",
       " './kor_eng_translation/2_대화체.txt']"
      ]
     },
     "execution_count": 2,
     "metadata": {},
     "output_type": "execute_result"
    }
   ],
   "source": [
    "paths = glob('./kor_eng_translation/*.txt')\n",
    "paths"
   ]
  },
  {
   "cell_type": "markdown",
   "metadata": {},
   "source": [
    "### Data Read and Concat"
   ]
  },
  {
   "cell_type": "code",
   "execution_count": 3,
   "metadata": {},
   "outputs": [
    {
     "name": "stdout",
     "output_type": "stream",
     "text": [
      "200000\n",
      "200541\n",
      "200011\n",
      "200000\n",
      "100646\n",
      "100087\n",
      "200835\n",
      "100298\n",
      "200000\n",
      "100000\n",
      "total: 1602418\n"
     ]
    }
   ],
   "source": [
    "text_list = []\n",
    "for path in paths:\n",
    "    with open(path) as f:\n",
    "        lines = f.readlines()\n",
    "\n",
    "    print(len(lines))\n",
    "    text_list = text_list + lines\n",
    "print('total:', len(text_list))"
   ]
  },
  {
   "cell_type": "code",
   "execution_count": 4,
   "metadata": {},
   "outputs": [],
   "source": [
    "with open('./kor_eng_translation/corpus.tsv', 'w') as f:\n",
    "    f.write(''.join(text_list))"
   ]
  },
  {
   "cell_type": "code",
   "execution_count": 5,
   "metadata": {},
   "outputs": [
    {
     "name": "stdout",
     "output_type": "stream",
     "text": [
      "1602418\n"
     ]
    }
   ],
   "source": [
    "with open('./kor_eng_translation/corpus.tsv', 'r') as f:\n",
    "    corpus = f.readlines()\n",
    "print(len(corpus))"
   ]
  },
  {
   "cell_type": "code",
   "execution_count": 7,
   "metadata": {},
   "outputs": [
    {
     "data": {
      "text/plain": [
       "['0 설정을 입력하고 안정될 때까지 5분 동안 기다린 후 OK 버튼을 길게 누르십시오.\\tEnter into 0 setting, and wait for 5 minutes to make it stable, then long-press OK button.\\n',\n",
       " \"0은 그들에게 아무것도 아니었지만 무는 숫자일 수가 없습니다.\\tThe zero was nothing for them but nothing couldn't be a number.\\n\",\n",
       " '1,015버전에서 핫키 버그가 있습니다.\\tThere is a Hotkey bug in the 1,015 version.\\n',\n",
       " '1,390점에서 1,440점을 득점한 사람은 재판을 위해 걸러집니다.\\tIndividuals who got a score between 1,390 and 1,440 are selected for a judge.\\n',\n",
       " '1,400년보다 오래 전의 유적지에 있는 최초의 성당에서 숭배자들은 그것을 인지했을 것입니다.\\tIndeed, worshippers at the very first cathedral on this site, over 1,400 years ago, would have still recognized it.\\n']"
      ]
     },
     "execution_count": 7,
     "metadata": {},
     "output_type": "execute_result"
    }
   ],
   "source": [
    "corpus[:5]"
   ]
  },
  {
   "cell_type": "code",
   "execution_count": 8,
   "metadata": {},
   "outputs": [],
   "source": [
    "import random\n",
    "\n",
    "random.shuffle(corpus)\n"
   ]
  },
  {
   "cell_type": "code",
   "execution_count": 9,
   "metadata": {},
   "outputs": [
    {
     "data": {
      "text/plain": [
       "['태풍 \\'쁘라삐룬\\'의 영향으로 많은 비가 내린 2일 오후 대구시 중구 대봉교 밑으로 흙탕물이 거세게 흘러내리고 있다.\\tMuddy water is pouring down below Daebong Bridge in central Daegu on the afternoon of the 2nd, when heavy rain fell due to the typhoon \"Prapiroon\".\\n',\n",
       " '근로자들은 요청서에서 ‘불안’, ‘위험’, ‘불편’ 등의 단어를 사용하며 “공장 내부가 어두워 위험하고, 방염복이 제 기능을 못 한다”며회사 측의 개선을 요구했다.\\tThe workers used the words \"anxiety,\" \"hazardous\" and \"uncomfortable\" in the request and called for the company\\'s improvement, saying the inside of the plant is dark, dangerous and the waterproof clothing does not function properly.\\n',\n",
       " '사업자는 신청인이 사업계획서의 작성을 요청하는 경우 30일 이내에 사업계획서를 작성하여 신청인에게 제공하도록 노력하여야 한다.\\tWhere the applicant requests the preparation of a business plan, the business operator shall endeavor to prepare a business plan and provide it to the applicant within 30 days.\\n',\n",
       " '아이가 집이 망가져서 다친 것을 집이 자기를 공격하고 있다고 해석한 게 순수하고 재밌었어.\\tIt was interesting the kid said that the house was attacking him, when he got hurt because the house was broken.\\n',\n",
       " '게임사들이 아이템 선물 거래 등과 관련해 불공정하게 약관을 운영하고 있지 않은지 검토하고 개선 방안을 마련하기 위해서다.\\tThe move is aimed at reviewing whether the game companies are operating the terms and conditions unfairly in relation to the trading of items and gifts, and to come up with measures to improve them.\\n']"
      ]
     },
     "execution_count": 9,
     "metadata": {},
     "output_type": "execute_result"
    }
   ],
   "source": [
    "corpus[:5]"
   ]
  },
  {
   "cell_type": "markdown",
   "metadata": {},
   "source": [
    "### Train, Valid, Test Split"
   ]
  },
  {
   "cell_type": "code",
   "execution_count": 10,
   "metadata": {},
   "outputs": [],
   "source": [
    "with open('./kor_eng_translation/corpus.train.tsv', 'w') as f:\n",
    "    f.write(''.join(corpus[:1200000]))\n",
    "with open('./kor_eng_translation/corpus.valid.tsv', 'w') as f:\n",
    "    f.write(''.join(corpus[1200000:1400000]))\n",
    "with open('./kor_eng_translation/corpus.test.tsv', 'w') as f:\n",
    "    f.write(''.join(corpus[1400000:]))\n"
   ]
  },
  {
   "cell_type": "code",
   "execution_count": 15,
   "metadata": {},
   "outputs": [
    {
     "name": "stdout",
     "output_type": "stream",
     "text": [
      "corpus.train.tsv 1200000\n",
      "corpus.test.tsv 202418\n",
      "corpus.valid.tsv 200000\n",
      "corpus.tsv 1602418\n"
     ]
    }
   ],
   "source": [
    "for path in glob('./kor_eng_translation/*.tsv'):\n",
    "    with open(path, 'r') as f:\n",
    "        print(path.split('/')[-1], len(f.readlines()))"
   ]
  },
  {
   "cell_type": "markdown",
   "metadata": {},
   "source": [
    "### Tokenizing"
   ]
  },
  {
   "cell_type": "code",
   "execution_count": 44,
   "metadata": {},
   "outputs": [
    {
     "name": "stderr",
     "output_type": "stream",
     "text": [
      "b'Skipping line 4130: expected 2 fields, saw 3\\nSkipping line 20270: expected 2 fields, saw 3\\nSkipping line 82100: expected 2 fields, saw 3\\n'\n",
      "b'Skipping line 498837: expected 2 fields, saw 3\\n'\n",
      "b'Skipping line 1020289: expected 2 fields, saw 3\\n'\n"
     ]
    },
    {
     "data": {
      "text/html": [
       "<div>\n",
       "<style scoped>\n",
       "    .dataframe tbody tr th:only-of-type {\n",
       "        vertical-align: middle;\n",
       "    }\n",
       "\n",
       "    .dataframe tbody tr th {\n",
       "        vertical-align: top;\n",
       "    }\n",
       "\n",
       "    .dataframe thead th {\n",
       "        text-align: right;\n",
       "    }\n",
       "</style>\n",
       "<table border=\"1\" class=\"dataframe\">\n",
       "  <thead>\n",
       "    <tr style=\"text-align: right;\">\n",
       "      <th></th>\n",
       "      <th>0</th>\n",
       "      <th>1</th>\n",
       "    </tr>\n",
       "  </thead>\n",
       "  <tbody>\n",
       "    <tr>\n",
       "      <th>0</th>\n",
       "      <td>태풍 '쁘라삐룬'의 영향으로 많은 비가 내린 2일 오후 대구시 중구 대봉교 밑으로 ...</td>\n",
       "      <td>Muddy water is pouring down below Daebong Brid...</td>\n",
       "    </tr>\n",
       "    <tr>\n",
       "      <th>1</th>\n",
       "      <td>근로자들은 요청서에서 ‘불안’, ‘위험’, ‘불편’ 등의 단어를 사용하며 “공장 내...</td>\n",
       "      <td>The workers used the words \"anxiety,\" \"hazardo...</td>\n",
       "    </tr>\n",
       "    <tr>\n",
       "      <th>2</th>\n",
       "      <td>사업자는 신청인이 사업계획서의 작성을 요청하는 경우 30일 이내에 사업계획서를 작성...</td>\n",
       "      <td>Where the applicant requests the preparation o...</td>\n",
       "    </tr>\n",
       "    <tr>\n",
       "      <th>3</th>\n",
       "      <td>아이가 집이 망가져서 다친 것을 집이 자기를 공격하고 있다고 해석한 게 순수하고 재...</td>\n",
       "      <td>It was interesting the kid said that the house...</td>\n",
       "    </tr>\n",
       "    <tr>\n",
       "      <th>4</th>\n",
       "      <td>게임사들이 아이템 선물 거래 등과 관련해 불공정하게 약관을 운영하고 있지 않은지 검...</td>\n",
       "      <td>The move is aimed at reviewing whether the gam...</td>\n",
       "    </tr>\n",
       "    <tr>\n",
       "      <th>...</th>\n",
       "      <td>...</td>\n",
       "      <td>...</td>\n",
       "    </tr>\n",
       "    <tr>\n",
       "      <th>1199154</th>\n",
       "      <td>석유왕 존 록펠러가 명예 의장이며, 국제자본시장의 큰 손인 유대계 핵심인재들이 주요...</td>\n",
       "      <td>John Rockefeller, the oil king, is the honorar...</td>\n",
       "    </tr>\n",
       "    <tr>\n",
       "      <th>1199155</th>\n",
       "      <td>기존의 민요풍에서 울진군민이 함께 부를 수 있도록 ‘경쾌하게’ 편곡했음을 알 수 있다.</td>\n",
       "      <td>It can be seen that the song was edited from t...</td>\n",
       "    </tr>\n",
       "    <tr>\n",
       "      <th>1199156</th>\n",
       "      <td>다산성곽길과 인현시장도 낙후지역이 아이디어를 입어 활력을 얻은 곳이다.</td>\n",
       "      <td>Dasan Fortress Trail and Inhyeon Market are al...</td>\n",
       "    </tr>\n",
       "    <tr>\n",
       "      <th>1199157</th>\n",
       "      <td>이 규칙은 「민원사무처리에 관한 법률 시행령」 제37조에 따 라 강원도 민원조정위원...</td>\n",
       "      <td>The purpose of this Rule is to prescribe matte...</td>\n",
       "    </tr>\n",
       "    <tr>\n",
       "      <th>1199158</th>\n",
       "      <td>첫 공개된 ‘2019형 패밀리허브’도 뉴 빅스비를 탑재해 복잡한 기능도 대화하는 것...</td>\n",
       "      <td>The first released \"2019 Family Hub,\" which is...</td>\n",
       "    </tr>\n",
       "  </tbody>\n",
       "</table>\n",
       "<p>1199159 rows × 2 columns</p>\n",
       "</div>"
      ],
      "text/plain": [
       "                                                         0  \\\n",
       "0        태풍 '쁘라삐룬'의 영향으로 많은 비가 내린 2일 오후 대구시 중구 대봉교 밑으로 ...   \n",
       "1        근로자들은 요청서에서 ‘불안’, ‘위험’, ‘불편’ 등의 단어를 사용하며 “공장 내...   \n",
       "2        사업자는 신청인이 사업계획서의 작성을 요청하는 경우 30일 이내에 사업계획서를 작성...   \n",
       "3        아이가 집이 망가져서 다친 것을 집이 자기를 공격하고 있다고 해석한 게 순수하고 재...   \n",
       "4        게임사들이 아이템 선물 거래 등과 관련해 불공정하게 약관을 운영하고 있지 않은지 검...   \n",
       "...                                                    ...   \n",
       "1199154  석유왕 존 록펠러가 명예 의장이며, 국제자본시장의 큰 손인 유대계 핵심인재들이 주요...   \n",
       "1199155   기존의 민요풍에서 울진군민이 함께 부를 수 있도록 ‘경쾌하게’ 편곡했음을 알 수 있다.   \n",
       "1199156            다산성곽길과 인현시장도 낙후지역이 아이디어를 입어 활력을 얻은 곳이다.   \n",
       "1199157  이 규칙은 「민원사무처리에 관한 법률 시행령」 제37조에 따 라 강원도 민원조정위원...   \n",
       "1199158  첫 공개된 ‘2019형 패밀리허브’도 뉴 빅스비를 탑재해 복잡한 기능도 대화하는 것...   \n",
       "\n",
       "                                                         1  \n",
       "0        Muddy water is pouring down below Daebong Brid...  \n",
       "1        The workers used the words \"anxiety,\" \"hazardo...  \n",
       "2        Where the applicant requests the preparation o...  \n",
       "3        It was interesting the kid said that the house...  \n",
       "4        The move is aimed at reviewing whether the gam...  \n",
       "...                                                    ...  \n",
       "1199154  John Rockefeller, the oil king, is the honorar...  \n",
       "1199155  It can be seen that the song was edited from t...  \n",
       "1199156  Dasan Fortress Trail and Inhyeon Market are al...  \n",
       "1199157  The purpose of this Rule is to prescribe matte...  \n",
       "1199158  The first released \"2019 Family Hub,\" which is...  \n",
       "\n",
       "[1199159 rows x 2 columns]"
      ]
     },
     "execution_count": 44,
     "metadata": {},
     "output_type": "execute_result"
    }
   ],
   "source": [
    "import pandas as pd\n",
    "df = pd.read_csv(\n",
    "    'kor_eng_translation/corpus.train.tsv', \n",
    "    sep='\\t', header=None,\n",
    "    error_bad_lines=False\n",
    ")\n",
    "df"
   ]
  },
  {
   "cell_type": "code",
   "execution_count": null,
   "metadata": {},
   "outputs": [],
   "source": []
  }
 ],
 "metadata": {
  "interpreter": {
   "hash": "452df0821433779ea0d62ff49f1a7cc03808e7ef127810619f5ecf0887789e09"
  },
  "kernelspec": {
   "display_name": "Python 3.7.0 64-bit ('torch': conda)",
   "language": "python",
   "name": "python3"
  },
  "language_info": {
   "codemirror_mode": {
    "name": "ipython",
    "version": 3
   },
   "file_extension": ".py",
   "mimetype": "text/x-python",
   "name": "python",
   "nbconvert_exporter": "python",
   "pygments_lexer": "ipython3",
   "version": "3.7.0"
  },
  "orig_nbformat": 4
 },
 "nbformat": 4,
 "nbformat_minor": 2
}
