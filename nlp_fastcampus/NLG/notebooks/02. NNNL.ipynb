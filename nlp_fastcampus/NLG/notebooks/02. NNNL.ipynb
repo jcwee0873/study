{
 "cells": [
  {
   "cell_type": "markdown",
   "metadata": {},
   "source": [
    "## Teacher forcing"
   ]
  },
  {
   "cell_type": "markdown",
   "metadata": {},
   "source": [
    "- MLE 수식상, x_t-1을 RNN의 입력으로 넣어줘야함\n",
    "- 하지만 x_t-1_hat이 들어가면 학습을 어떻게??\n",
    "- x_hat과 실제 x를 비교해서 loss를 계산, 다음 step에는 x를 입력\n",
    "- 단, 이렇게 할 경우 train과 test의 방법이 다르다는 문제 발생"
   ]
  },
  {
   "cell_type": "code",
   "execution_count": null,
   "metadata": {},
   "outputs": [],
   "source": []
  }
 ],
 "metadata": {
  "interpreter": {
   "hash": "452df0821433779ea0d62ff49f1a7cc03808e7ef127810619f5ecf0887789e09"
  },
  "kernelspec": {
   "display_name": "Python 3 (ipykernel)",
   "language": "python",
   "name": "python3"
  },
  "language_info": {
   "codemirror_mode": {
    "name": "ipython",
    "version": 3
   },
   "file_extension": ".py",
   "mimetype": "text/x-python",
   "name": "python",
   "nbconvert_exporter": "python",
   "pygments_lexer": "ipython3",
   "version": "3.7.0"
  }
 },
 "nbformat": 4,
 "nbformat_minor": 2
}
